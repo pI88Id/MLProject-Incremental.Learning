{
 "cells": [],
 "metadata": {
  "kernelspec": {
   "name": "pycharm-ca37dc",
   "language": "python",
   "display_name": "PyCharm (HW2)"
  },
  "language_info": {
   "codemirror_mode": {
    "name": "ipython",
    "version": 2
   },
   "file_extension": ".py",
   "mimetype": "text/x-python",
   "name": "python",
   "nbconvert_exporter": "python",
   "pygments_lexer": "ipython2",
   "version": "2.7.6"
  },
  "pycharm": {
   "stem_cell": {
    "cell_type": "raw",
    "source": [
     "import fineTuning as ft\n",
     "from Cifar100.utils import plot\n",
     "\n",
     "####Hyper-parameters####\n",
     "DEVICE = 'cuda'\n",
     "NUM_CLASSES = 100\n",
     "BATCH_SIZE = 128\n",
     "CLASSES_BATCH =10\n",
     "STEPDOWN_EPOCHS = [49, 63]\n",
     "STEPDOWN_FACTOR = 5\n",
     "LR = 2\n",
     "MOMENTUM = 0.9\n",
     "WEIGHT_DECAY = 0.00001\n",
     "NUM_EPOCHS = 70\n",
     "########################\n",
     "\n",
     "parameters = {\n",
     "    'name': 'Finetuning',\n",
     "    'NUM_CLASSES': 100,\n",
     "    'BATCH_SIZE' : 128,\n",
     "    'CLASSES_BATCH' : 10,\n",
     "    'STEPDOWN_EPOCHS' : [49, 63],\n",
     "    'STEPDOWN_FACTOR' : 5,\n",
     "    'LR' : 2,\n",
     "    'MOMENTUM' : 0.9,\n",
     "    'WEIGHT_DECAY' : 0.00001,\n",
     "    'NUM_EPOCHS' : 70\n",
     "}\n",
     "\n",
     "new_acc_train_list, new_loss_train_list, new_acc_test_list, new_loss_test_list, all_acc_list = ft.incremental_learning()\n",
     "\n",
     "plot(new_acc_train_list, new_acc_test_list, new_loss_train_list, new_loss_test_list, all_acc_list, parameters)\n",
     "\n"
    ],
    "metadata": {
     "collapsed": false
    }
   }
  }
 },
 "nbformat": 4,
 "nbformat_minor": 0
}