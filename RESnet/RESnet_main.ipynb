{
 "cells": [
  {
   "cell_type": "code",
   "execution_count": 1,
   "metadata": {
    "collapsed": true
   },
   "outputs": [
    {
     "name": "stdout",
     "output_type": "stream",
     "text": [
      "------------------------------\n",
      "**** ITERATION 1 ****\n",
      "------------------------------\n",
      "Loading the Datasets ...\n",
      "------------------------------\n",
      "Files already downloaded and verified\n",
      "Files already downloaded and verified\n",
      "------------------------------\n",
      "Training ...\n",
      "------------------------------\n",
      "Epoch 0 Loss:0.4740 Accuracy:0.1478\n",
      "Learning rate:2\n",
      "------------------------------\n"
     ]
    },
    {
     "ename": "KeyboardInterrupt",
     "evalue": "",
     "output_type": "error",
     "traceback": [
      "\u001B[1;31m---------------------------------------------------------------------------\u001B[0m",
      "\u001B[1;31mKeyboardInterrupt\u001B[0m                         Traceback (most recent call last)",
      "\u001B[1;32m<ipython-input-1-8248a1dbbd3d>\u001B[0m in \u001B[0;36m<module>\u001B[1;34m\u001B[0m\n\u001B[0;32m     28\u001B[0m }\n\u001B[0;32m     29\u001B[0m \u001B[1;33m\u001B[0m\u001B[0m\n\u001B[1;32m---> 30\u001B[1;33m \u001B[0mnew_acc_train_list\u001B[0m\u001B[1;33m,\u001B[0m \u001B[0mnew_loss_train_list\u001B[0m\u001B[1;33m,\u001B[0m \u001B[0mnew_acc_test_list\u001B[0m\u001B[1;33m,\u001B[0m \u001B[0mnew_loss_test_list\u001B[0m\u001B[1;33m,\u001B[0m \u001B[0mall_acc_list\u001B[0m \u001B[1;33m=\u001B[0m \u001B[0mincremental_learning\u001B[0m\u001B[1;33m(\u001B[0m\u001B[1;33m)\u001B[0m\u001B[1;33m\u001B[0m\u001B[1;33m\u001B[0m\u001B[0m\n\u001B[0m\u001B[0;32m     31\u001B[0m \u001B[1;33m\u001B[0m\u001B[0m\n",
      "\u001B[1;32m~\\PycharmProjects\\MLProject-Incremental.Learning\\LWF\\LWF_utils.py\u001B[0m in \u001B[0;36mincremental_learning\u001B[1;34m()\u001B[0m\n\u001B[0;32m    222\u001B[0m \u001B[1;33m\u001B[0m\u001B[0m\n\u001B[0;32m    223\u001B[0m         \u001B[0mfc\u001B[0m\u001B[1;33m,\u001B[0m \u001B[0mnew_out_features\u001B[0m \u001B[1;33m=\u001B[0m \u001B[0mupdate_classes\u001B[0m\u001B[1;33m(\u001B[0m\u001B[0mfc\u001B[0m\u001B[1;33m,\u001B[0m \u001B[0mlist\u001B[0m\u001B[1;33m(\u001B[0m\u001B[0mset\u001B[0m\u001B[1;33m(\u001B[0m\u001B[0mtrain_dataset\u001B[0m\u001B[1;33m.\u001B[0m\u001B[0mtargets\u001B[0m\u001B[1;33m)\u001B[0m\u001B[1;33m)\u001B[0m\u001B[1;33m)\u001B[0m\u001B[1;33m\u001B[0m\u001B[1;33m\u001B[0m\u001B[0m\n\u001B[1;32m--> 224\u001B[1;33m         \u001B[0mnet\u001B[0m\u001B[1;33m,\u001B[0m \u001B[0mtrain_accuracies\u001B[0m\u001B[1;33m,\u001B[0m \u001B[0mtrain_losses\u001B[0m\u001B[1;33m,\u001B[0m \u001B[0mtest_accuracies\u001B[0m\u001B[1;33m,\u001B[0m \u001B[0mtest_losses\u001B[0m \u001B[1;33m=\u001B[0m \u001B[0mtrain\u001B[0m\u001B[1;33m(\u001B[0m\u001B[0mnet\u001B[0m\u001B[1;33m,\u001B[0m \u001B[0mfc\u001B[0m\u001B[1;33m,\u001B[0m \u001B[0mtrain_dataloader\u001B[0m\u001B[1;33m,\u001B[0m \u001B[0mtest_dataloader\u001B[0m\u001B[1;33m)\u001B[0m\u001B[1;33m\u001B[0m\u001B[1;33m\u001B[0m\u001B[0m\n\u001B[0m\u001B[0;32m    225\u001B[0m \u001B[1;33m\u001B[0m\u001B[0m\n\u001B[0;32m    226\u001B[0m         \u001B[0mnew_acc_train_list\u001B[0m\u001B[1;33m.\u001B[0m\u001B[0mappend\u001B[0m\u001B[1;33m(\u001B[0m\u001B[0mtrain_accuracies\u001B[0m\u001B[1;33m)\u001B[0m\u001B[1;33m\u001B[0m\u001B[1;33m\u001B[0m\u001B[0m\n",
      "\u001B[1;32m~\\PycharmProjects\\MLProject-Incremental.Learning\\LWF\\LWF_utils.py\u001B[0m in \u001B[0;36mtrain\u001B[1;34m(net, fc, train_dataloader, test_dataloader)\u001B[0m\n\u001B[0;32m    147\u001B[0m \u001B[1;33m\u001B[0m\u001B[0m\n\u001B[0;32m    148\u001B[0m             \u001B[1;31m# statistics\u001B[0m\u001B[1;33m\u001B[0m\u001B[1;33m\u001B[0m\u001B[1;33m\u001B[0m\u001B[0m\n\u001B[1;32m--> 149\u001B[1;33m             \u001B[0mrunning_loss\u001B[0m \u001B[1;33m+=\u001B[0m \u001B[0mloss\u001B[0m\u001B[1;33m.\u001B[0m\u001B[0mitem\u001B[0m\u001B[1;33m(\u001B[0m\u001B[1;33m)\u001B[0m \u001B[1;33m*\u001B[0m \u001B[0minputs\u001B[0m\u001B[1;33m.\u001B[0m\u001B[0msize\u001B[0m\u001B[1;33m(\u001B[0m\u001B[1;36m0\u001B[0m\u001B[1;33m)\u001B[0m\u001B[1;33m\u001B[0m\u001B[1;33m\u001B[0m\u001B[0m\n\u001B[0m\u001B[0;32m    150\u001B[0m             \u001B[0mrunning_corrects_train\u001B[0m \u001B[1;33m+=\u001B[0m \u001B[0mtorch\u001B[0m\u001B[1;33m.\u001B[0m\u001B[0msum\u001B[0m\u001B[1;33m(\u001B[0m\u001B[0mpreds\u001B[0m \u001B[1;33m==\u001B[0m \u001B[0mlabels\u001B[0m\u001B[1;33m.\u001B[0m\u001B[0mdata\u001B[0m\u001B[1;33m)\u001B[0m\u001B[1;33m.\u001B[0m\u001B[0mdata\u001B[0m\u001B[1;33m.\u001B[0m\u001B[0mitem\u001B[0m\u001B[1;33m(\u001B[0m\u001B[1;33m)\u001B[0m\u001B[1;33m\u001B[0m\u001B[1;33m\u001B[0m\u001B[0m\n\u001B[0;32m    151\u001B[0m \u001B[1;33m\u001B[0m\u001B[0m\n",
      "\u001B[1;31mKeyboardInterrupt\u001B[0m: "
     ]
    }
   ],
   "source": [
    "\n",
    "from RESnet.RESnet_utils import incremental_learning\n",
    "from Cifar100.utils import plot\n",
    "\n",
    "####Hyper-parameters####\n",
    "DEVICE = 'cuda'\n",
    "NUM_CLASSES = 100\n",
    "BATCH_SIZE = 512\n",
    "CLASSES_BATCH =10\n",
    "STEPDOWN_EPOCHS = [49, 63]\n",
    "STEPDOWN_FACTOR = 5\n",
    "LR = 2\n",
    "MOMENTUM = 0.9\n",
    "WEIGHT_DECAY = 0.00001\n",
    "NUM_EPOCHS = 70\n",
    "########################\n",
    "\n",
    "parameters = {\n",
    "    'name': 'Finetuning',\n",
    "    'NUM_CLASSES': NUM_CLASSES,\n",
    "    'BATCH_SIZE' : BATCH_SIZE,\n",
    "    'CLASSES_BATCH' : CLASSES_BATCH,\n",
    "    'STEPDOWN_EPOCHS' : STEPDOWN_EPOCHS,\n",
    "    'STEPDOWN_FACTOR' : STEPDOWN_FACTOR,\n",
    "    'LR' : LR,\n",
    "    'MOMENTUM' : MOMENTUM,\n",
    "    'WEIGHT_DECAY' : WEIGHT_DECAY,\n",
    "    'NUM_EPOCHS' : NUM_EPOCHS\n",
    "}\n",
    "\n",
    "new_acc_train_list, new_loss_train_list, new_acc_test_list, new_loss_test_list, all_acc_list = incremental_learning()"
   ]
  },
  {
   "cell_type": "code",
   "execution_count": null,
   "outputs": [],
   "source": [
    "plot(new_acc_train_list, new_acc_test_list, new_loss_train_list, new_loss_test_list, all_acc_list[:, 1], parameters)"
   ],
   "metadata": {
    "collapsed": false,
    "pycharm": {
     "name": "#%%\n"
    }
   }
  }
 ],
 "metadata": {
  "kernelspec": {
   "name": "pycharm-ca37dc",
   "language": "python",
   "display_name": "PyCharm (HW2)"
  },
  "language_info": {
   "codemirror_mode": {
    "name": "ipython",
    "version": 2
   },
   "file_extension": ".py",
   "mimetype": "text/x-python",
   "name": "python",
   "nbconvert_exporter": "python",
   "pygments_lexer": "ipython2",
   "version": "2.7.6"
  }
 },
 "nbformat": 4,
 "nbformat_minor": 0
}