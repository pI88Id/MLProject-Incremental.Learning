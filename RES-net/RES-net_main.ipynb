{
 "cells": [
  {
   "cell_type": "code",
   "execution_count": null,
   "metadata": {
    "collapsed": true
   },
   "outputs": [],
   "source": [
    "\n",
    "from LWF.LWF_utils import incremental_learning\n",
    "from Cifar100.utils import plot\n",
    "\n",
    "####Hyper-parameters####\n",
    "DEVICE = 'cuda'\n",
    "NUM_CLASSES = 100\n",
    "BATCH_SIZE = 512\n",
    "CLASSES_BATCH =10\n",
    "STEPDOWN_EPOCHS = [49, 63]\n",
    "STEPDOWN_FACTOR = 5\n",
    "LR = 2\n",
    "MOMENTUM = 0.9\n",
    "WEIGHT_DECAY = 0.00001\n",
    "NUM_EPOCHS = 70\n",
    "########################\n",
    "\n",
    "parameters = {\n",
    "    'name': 'Finetuning',\n",
    "    'NUM_CLASSES': NUM_CLASSES,\n",
    "    'BATCH_SIZE' : BATCH_SIZE,\n",
    "    'CLASSES_BATCH' : CLASSES_BATCH,\n",
    "    'STEPDOWN_EPOCHS' : STEPDOWN_EPOCHS,\n",
    "    'STEPDOWN_FACTOR' : STEPDOWN_FACTOR,\n",
    "    'LR' : LR,\n",
    "    'MOMENTUM' : MOMENTUM,\n",
    "    'WEIGHT_DECAY' : WEIGHT_DECAY,\n",
    "    'NUM_EPOCHS' : NUM_EPOCHS\n",
    "}\n",
    "\n",
    "new_acc_train_list, new_loss_train_list, new_acc_test_list, new_loss_test_list, all_acc_list = incremental_learning()"
   ]
  },
  {
   "cell_type": "code",
   "execution_count": null,
   "outputs": [],
   "source": [
    "plot(new_acc_train_list, new_acc_test_list, new_loss_train_list, new_loss_test_list, all_acc_list[:, 1], parameters)"
   ],
   "metadata": {
    "collapsed": false,
    "pycharm": {
     "name": "#%%\n"
    }
   }
  }
 ],
 "metadata": {
  "kernelspec": {
   "display_name": "Python 3",
   "language": "python",
   "name": "python3"
  },
  "language_info": {
   "codemirror_mode": {
    "name": "ipython",
    "version": 2
   },
   "file_extension": ".py",
   "mimetype": "text/x-python",
   "name": "python",
   "nbconvert_exporter": "python",
   "pygments_lexer": "ipython2",
   "version": "2.7.6"
  }
 },
 "nbformat": 4,
 "nbformat_minor": 0
}