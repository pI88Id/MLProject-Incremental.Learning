{
 "cells": [
  {
   "cell_type": "code",
   "execution_count": 4,
   "outputs": [
    {
     "ename": "TypeError",
     "evalue": "'int' object is not callable",
     "output_type": "error",
     "traceback": [
      "\u001B[1;31m---------------------------------------------------------------------------\u001B[0m",
      "\u001B[1;31mTypeError\u001B[0m                                 Traceback (most recent call last)",
      "\u001B[1;32m<ipython-input-4-7a9d6a9eada9>\u001B[0m in \u001B[0;36m<module>\u001B[1;34m\u001B[0m\n\u001B[0;32m     28\u001B[0m }\n\u001B[0;32m     29\u001B[0m \u001B[1;33m\u001B[0m\u001B[0m\n\u001B[1;32m---> 30\u001B[1;33m \u001B[0mnew_acc_train_list\u001B[0m\u001B[1;33m,\u001B[0m \u001B[0mnew_loss_train_list\u001B[0m\u001B[1;33m,\u001B[0m \u001B[0mnew_acc_test_list\u001B[0m\u001B[1;33m,\u001B[0m \u001B[0mnew_loss_test_list\u001B[0m\u001B[1;33m,\u001B[0m \u001B[0mall_acc_list\u001B[0m \u001B[1;33m=\u001B[0m \u001B[0mLR\u001B[0m\u001B[1;33m(\u001B[0m\u001B[1;33m)\u001B[0m\u001B[1;33m\u001B[0m\u001B[1;33m\u001B[0m\u001B[0m\n\u001B[0m\u001B[0;32m     31\u001B[0m \u001B[1;33m\u001B[0m\u001B[0m\n\u001B[0;32m     32\u001B[0m \u001B[0mplot\u001B[0m\u001B[1;33m(\u001B[0m\u001B[0mnew_acc_train_list\u001B[0m\u001B[1;33m,\u001B[0m \u001B[0mnew_acc_test_list\u001B[0m\u001B[1;33m,\u001B[0m \u001B[0mnew_loss_train_list\u001B[0m\u001B[1;33m,\u001B[0m \u001B[0mnew_loss_test_list\u001B[0m\u001B[1;33m,\u001B[0m \u001B[0mall_acc_list\u001B[0m\u001B[1;33m,\u001B[0m \u001B[0mparameters\u001B[0m\u001B[1;33m)\u001B[0m\u001B[1;33m\u001B[0m\u001B[1;33m\u001B[0m\u001B[0m\n",
      "\u001B[1;31mTypeError\u001B[0m: 'int' object is not callable"
     ]
    }
   ],
   "source": [
    "from LWF import incremental_learning\n",
    "from Cifar100.utils import plot\n",
    "\n",
    "####Hyper-parameters####\n",
    "DEVICE = 'cuda'\n",
    "NUM_CLASSES = 100\n",
    "BATCH_SIZE = 128\n",
    "CLASSES_BATCH =10\n",
    "STEPDOWN_EPOCHS = [49, 63]\n",
    "STEPDOWN_FACTOR = 5\n",
    "LR = 2\n",
    "MOMENTUM = 0.9\n",
    "WEIGHT_DECAY = 0.00001\n",
    "NUM_EPOCHS = 70\n",
    "########################\n",
    "\n",
    "parameters = {\n",
    "    'name': 'Finetuning',\n",
    "    'NUM_CLASSES': 100,\n",
    "    'BATCH_SIZE' : 128,\n",
    "    'CLASSES_BATCH' : 10,\n",
    "    'STEPDOWN_EPOCHS' : [49, 63],\n",
    "    'STEPDOWN_FACTOR' : 5,\n",
    "    'LR' : 2,\n",
    "    'MOMENTUM' : 0.9,\n",
    "    'WEIGHT_DECAY' : 0.00001,\n",
    "    'NUM_EPOCHS' : 70\n",
    "}\n",
    "\n",
    "new_acc_train_list, new_loss_train_list, new_acc_test_list, new_loss_test_list, all_acc_list = LR()\n",
    "\n",
    "plot(new_acc_train_list, new_acc_test_list, new_loss_train_list, new_loss_test_list, all_acc_list, parameters)\n"
   ],
   "metadata": {
    "collapsed": false,
    "pycharm": {
     "name": "#%%\n"
    }
   }
  }
 ],
 "metadata": {
  "kernelspec": {
   "name": "pycharm-ca37dc",
   "language": "python",
   "display_name": "PyCharm (HW2)"
  },
  "language_info": {
   "codemirror_mode": {
    "name": "ipython",
    "version": 2
   },
   "file_extension": ".py",
   "mimetype": "text/x-python",
   "name": "python",
   "nbconvert_exporter": "python",
   "pygments_lexer": "ipython2",
   "version": "2.7.6"
  }
 },
 "nbformat": 4,
 "nbformat_minor": 0
}